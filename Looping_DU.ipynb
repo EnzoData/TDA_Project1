{
 "cells": [
  {
   "cell_type": "markdown",
   "metadata": {},
   "source": [
    "# Looping through all the letters in Down_to_Up direction\n",
    "## Importing notebooks"
   ]
  },
  {
   "cell_type": "code",
   "execution_count": 1,
   "metadata": {},
   "outputs": [],
   "source": [
    "import numpy as np\n",
    "import matplotlib.pyplot as plt\n",
    "import scipy \n",
    "from scipy import ndimage\n",
    "import PIL\n",
    "from persim import plot_diagrams\n",
    "from ripser import ripser, lower_star_img \n",
    "import csv"
   ]
  },
  {
   "cell_type": "code",
   "execution_count": 4,
   "metadata": {},
   "outputs": [
    {
     "name": "stdout",
     "output_type": "stream",
     "text": [
      "(1, 2)\n",
      "[[ 2. inf]]\n"
     ]
    },
    {
     "data": {
      "image/png": "[encoded data removed]",
      "text/plain": [
       "<Figure size 640x480 with 1 Axes>"
      ]
     },
     "metadata": {},
     "output_type": "display_data"
    }
   ],
   "source": [
    "dgmDU = lower_star_img(letter)\n",
    "print(dgm.shape)\n",
    "print(dgm)\n",
    "plot_diagrams(dgm)\n",
    "\n",
    "plt.show()"
   ]
  },
  {
   "cell_type": "code",
   "execution_count": 5,
   "metadata": {},
   "outputs": [],
   "source": [
    "# Down-to-up scanning through loops\n",
    "letters = genfromtxt('letters.csv', delimiter=',') # Upload the file\n",
    "\n",
    "dgmDU = [None]*26 #Initialize an empty list\n",
    "for i in range(26):\n",
    "    letter_one_line=letters[i,:]\n",
    "\n",
    "    # initialize matrix of size 10x10 with all values 100\n",
    "    letter=np.full((10, 10), 100)\n",
    "\n",
    "    # convert one line letter to 10x10 matrix replacing zeros with 100\n",
    "    for k in range(1,101):\n",
    "        if letter_one_line[k]==1.0:\n",
    "            row=int((k-1)%10) \n",
    "            column=(k-1)/10 \n",
    "            letter[row,column]=k%10            \n",
    "    dgmDU[i] = lower_star_img(letter)"
   ]
  },
  {
   "cell_type": "code",
   "execution_count": 6,
   "metadata": {},
   "outputs": [
    {
     "name": "stdout",
     "output_type": "stream",
     "text": [
      "[array([[ 2., inf]]), array([[ 3., inf]]), array([[ 2., inf]]), array([[ 3., inf]]), array([[ 3., inf]]), array([[ 3., inf]]), array([[ 2., inf]]), array([[ 3., inf]]), array([[ 4.,  5.],\n",
      "       [ 4., inf]]), array([[ 4.,  6.],\n",
      "       [ 4., inf]]), array([[ 3., inf]]), array([[ 3., inf]]), array([[ 2., inf]]), array([[ 2., inf]]), array([[ 2., inf]]), array([[ 3., inf]]), array([[ 6.,  7.],\n",
      "       [ 2., inf]]), array([[ 3., inf]]), array([[ 3.,  8.],\n",
      "       [ 3., inf]]), array([[ 2., inf]]), array([[ 3., inf]]), array([[ 2., inf]]), array([[ 2., inf]]), array([[ 3.,  4.],\n",
      "       [ 3., inf]]), array([[ 3., inf]])]\n"
     ]
    }
   ],
   "source": [
    "# Print A-Z diagrams\n",
    "print(dgmDU[0:25])"
   ]
  },
  {
   "cell_type": "code",
   "execution_count": 7,
   "metadata": {},
   "outputs": [
    {
     "name": "stdout",
     "output_type": "stream",
     "text": [
      "[[ 2. inf]]\n"
     ]
    }
   ],
   "source": [
    "# Print A diagram \n",
    "print(dgmDU[0])"
   ]
  },
  {
   "cell_type": "code",
   "execution_count": 8,
   "metadata": {},
   "outputs": [
    {
     "name": "stdout",
     "output_type": "stream",
     "text": [
      "[[ 3.  7.]\n",
      " [ 2. inf]]\n"
     ]
    }
   ],
   "source": [
    "# Print Z diagram \n",
    "print(dgmDU[25])"
   ]
  }
 ],
 "metadata": {
  "kernelspec": {
   "display_name": "Python 2",
   "language": "python",
   "name": "python2"
  },
  "language_info": {
   "codemirror_mode": {
    "name": "ipython",
    "version": 2
   },
   "file_extension": ".py",
   "mimetype": "text/x-python",
   "name": "python",
   "nbconvert_exporter": "python",
   "pygments_lexer": "ipython2",
   "version": "2.7.16"
  }
 },
 "nbformat": 4,
 "nbformat_minor": 2
}
