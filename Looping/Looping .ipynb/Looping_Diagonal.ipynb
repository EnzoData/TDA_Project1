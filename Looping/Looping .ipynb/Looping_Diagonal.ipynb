{
 "cells": [
  {
   "cell_type": "markdown",
   "metadata": {},
   "source": [
    "# Looping through all the letters in diagonal direction\n",
    "## Importing notebooks\n"
   ]
  },
  {
   "cell_type": "code",
   "execution_count": 9,
   "metadata": {},
   "outputs": [],
   "source": [
    "import numpy as np\n",
    "import matplotlib.pyplot as plt\n",
    "import scipy \n",
    "from scipy import ndimage\n",
    "import PIL\n",
    "from persim import plot_diagrams\n",
    "from ripser import ripser, lower_star_img \n",
    "import csv"
   ]
  },
  {
   "cell_type": "code",
   "execution_count": 10,
   "metadata": {},
   "outputs": [
    {
     "name": "stdout",
     "output_type": "stream",
     "text": [
      "(6, 2)\n",
      "[[ 2.  4.]\n",
      " [ 0.  5.]\n",
      " [ 5.  6.]\n",
      " [ 0.  8.]\n",
      " [ 4.  9.]\n",
      " [ 0. inf]]\n"
     ]
    },
    {
     "data": {
      "image/png": "[encoded data removed]",
      "text/plain": [
       "<Figure size 640x480 with 1 Axes>"
      ]
     },
     "metadata": {},
     "output_type": "display_data"
    }
   ],
   "source": [
    "dgm = lower_star_img(letter)\n",
    "print(dgm.shape)\n",
    "print(dgm)\n",
    "plot_diagrams(dgm)\n",
    "\n",
    "plt.show()"
   ]
  },
  {
   "cell_type": "code",
   "execution_count": 11,
   "metadata": {},
   "outputs": [],
   "source": [
    "# Diagonal scanning through loops\n",
    "letters = genfromtxt('letters.csv', delimiter=',') # Upload the file\n",
    "\n",
    "dgmDiagonal = [None]*26 #Initialize an empty list\n",
    "for i in range(26):\n",
    "    letter_one_line=letters[i,:]\n",
    "\n",
    "    # initialize matrix of size 10x10 with all values 100\n",
    "    letter=np.full((10, 10), 100)\n",
    "\n",
    "    # convert one line letter to 10x10 matrix replacing zeros with 100\n",
    "    for k in range(1,101):\n",
    "        if letter_one_line[k]==1.0:\n",
    "            row=int((k-1)/10) \n",
    "            column=(k-1)%10 \n",
    "            letter[row,column]=(column+row)*k%10            \n",
    "    dgmDiagonal[i] = lower_star_img(letter)"
   ]
  },
  {
   "cell_type": "code",
   "execution_count": 12,
   "metadata": {},
   "outputs": [
    {
     "name": "stdout",
     "output_type": "stream",
     "text": [
      "[array([[ 0.,  3.],\n",
      "       [ 0.,  4.],\n",
      "       [ 1.,  5.],\n",
      "       [ 0.,  5.],\n",
      "       [ 0., inf]]), array([[ 1.,  2.],\n",
      "       [ 0.,  4.],\n",
      "       [ 0.,  4.],\n",
      "       [ 2.,  4.],\n",
      "       [ 2.,  5.],\n",
      "       [ 0.,  6.],\n",
      "       [ 0.,  6.],\n",
      "       [ 1.,  7.],\n",
      "       [ 0., inf]]), array([[ 0.,  4.],\n",
      "       [ 1.,  5.],\n",
      "       [ 0.,  5.],\n",
      "       [ 4.,  9.],\n",
      "       [ 0., inf]]), array([[ 1.,  2.],\n",
      "       [ 0.,  4.],\n",
      "       [ 5.,  6.],\n",
      "       [ 2.,  6.],\n",
      "       [ 1.,  7.],\n",
      "       [ 0.,  8.],\n",
      "       [ 0., inf]]), array([[ 0.,  4.],\n",
      "       [ 0.,  4.],\n",
      "       [ 5.,  6.],\n",
      "       [ 1.,  7.],\n",
      "       [ 0.,  8.],\n",
      "       [ 0.,  8.],\n",
      "       [ 2.,  8.],\n",
      "       [ 4.,  9.],\n",
      "       [ 0., inf]]), array([[ 0.,  4.],\n",
      "       [ 5.,  6.],\n",
      "       [ 1.,  7.],\n",
      "       [ 0.,  8.],\n",
      "       [ 2.,  8.],\n",
      "       [ 0., inf]]), array([[ 1.,  4.],\n",
      "       [ 0.,  4.],\n",
      "       [ 0.,  5.],\n",
      "       [ 2.,  5.],\n",
      "       [ 5.,  6.],\n",
      "       [ 0., inf]]), array([[ 1.,  7.],\n",
      "       [ 2.,  8.],\n",
      "       [ 1.,  8.],\n",
      "       [ 0., inf]]), array([[ 0.,  5.],\n",
      "       [ 0.,  5.],\n",
      "       [ 0.,  5.],\n",
      "       [ 0., inf]]), array([[ 2.,  5.],\n",
      "       [ 0.,  6.],\n",
      "       [ 2.,  8.],\n",
      "       [ 0., inf]]), array([[ 1.,  2.],\n",
      "       [ 1.,  2.],\n",
      "       [ 2.,  5.],\n",
      "       [ 0.,  7.],\n",
      "       [ 2.,  8.],\n",
      "       [ 0., inf]]), array([[ 0.,  4.],\n",
      "       [ 1.,  7.],\n",
      "       [ 2.,  8.],\n",
      "       [ 0., inf]]), array([[ 0.,  2.],\n",
      "       [ 2.,  4.],\n",
      "       [ 0.,  5.],\n",
      "       [ 2.,  6.],\n",
      "       [ 2.,  8.],\n",
      "       [ 0.,  8.],\n",
      "       [ 0., inf]]), array([[ 1.,  4.],\n",
      "       [ 2.,  4.],\n",
      "       [ 0.,  5.],\n",
      "       [ 0., inf]]), array([[ 0.,  4.],\n",
      "       [ 0.,  6.],\n",
      "       [ 5.,  6.],\n",
      "       [ 2.,  6.],\n",
      "       [ 1.,  8.],\n",
      "       [ 0.,  8.],\n",
      "       [ 0., inf]]), array([[ 1.,  5.],\n",
      "       [ 5.,  6.],\n",
      "       [ 2.,  6.],\n",
      "       [ 0.,  7.],\n",
      "       [ 0., inf]]), array([[ 0.,  4.],\n",
      "       [ 0.,  6.],\n",
      "       [ 5.,  6.],\n",
      "       [ 0.,  8.],\n",
      "       [ 0.,  8.],\n",
      "       [ 2.,  8.],\n",
      "       [ 0., inf]]), array([[ 1.,  2.],\n",
      "       [ 1.,  2.],\n",
      "       [ 0.,  2.],\n",
      "       [ 2.,  4.],\n",
      "       [ 2.,  6.],\n",
      "       [ 0.,  7.],\n",
      "       [ 0., inf]]), array([[ 0.,  4.],\n",
      "       [ 2.,  5.],\n",
      "       [ 5.,  6.],\n",
      "       [ 0.,  7.],\n",
      "       [ 0.,  8.],\n",
      "       [ 2.,  8.],\n",
      "       [ 4.,  9.],\n",
      "       [ 0., inf]]), array([[ 0.,  5.],\n",
      "       [ 0.,  5.],\n",
      "       [ 0.,  5.],\n",
      "       [ 4.,  9.],\n",
      "       [ 4.,  9.],\n",
      "       [ 0., inf]]), array([[ 0.,  4.],\n",
      "       [ 1.,  7.],\n",
      "       [ 0.,  8.],\n",
      "       [ 0.,  8.],\n",
      "       [ 2.,  8.],\n",
      "       [ 0., inf]]), array([[ 0.,  2.],\n",
      "       [ 2.,  3.],\n",
      "       [ 2.,  8.],\n",
      "       [ 0., inf]]), array([[ 1.,  2.],\n",
      "       [ 0.,  2.],\n",
      "       [ 0.,  3.],\n",
      "       [ 0.,  5.],\n",
      "       [ 0.,  6.],\n",
      "       [ 5.,  6.],\n",
      "       [ 4.,  8.],\n",
      "       [ 0.,  9.],\n",
      "       [ 0., inf]]), array([[ 1.,  2.],\n",
      "       [ 0.,  2.],\n",
      "       [ 2.,  4.],\n",
      "       [ 0.,  4.],\n",
      "       [ 0., inf]]), array([[ 0.,  5.],\n",
      "       [ 0.,  8.],\n",
      "       [ 2.,  8.],\n",
      "       [ 0., inf]])]\n"
     ]
    }
   ],
   "source": [
    "# Print A-Z diagrams\n",
    "print(dgmDiagonal[0:25])"
   ]
  },
  {
   "cell_type": "code",
   "execution_count": 13,
   "metadata": {},
   "outputs": [
    {
     "name": "stdout",
     "output_type": "stream",
     "text": [
      "[[ 0.  3.]\n",
      " [ 0.  4.]\n",
      " [ 1.  5.]\n",
      " [ 0.  5.]\n",
      " [ 0. inf]]\n"
     ]
    }
   ],
   "source": [
    "# Print A digram\n",
    "print(dgmDiagonal[0])"
   ]
  },
  {
   "cell_type": "code",
   "execution_count": 14,
   "metadata": {},
   "outputs": [
    {
     "name": "stdout",
     "output_type": "stream",
     "text": [
      "[[ 2.  4.]\n",
      " [ 0.  5.]\n",
      " [ 5.  6.]\n",
      " [ 0.  8.]\n",
      " [ 4.  9.]\n",
      " [ 0. inf]]\n"
     ]
    }
   ],
   "source": [
    "# Print z diagram\n",
    "print(dgmDiagonal[25])"
   ]
  }
 ],
 "metadata": {
  "kernelspec": {
   "display_name": "Python 2",
   "language": "python",
   "name": "python2"
  },
  "language_info": {
   "codemirror_mode": {
    "name": "ipython",
    "version": 2
   },
   "file_extension": ".py",
   "mimetype": "text/x-python",
   "name": "python",
   "nbconvert_exporter": "python",
   "pygments_lexer": "ipython2",
   "version": "2.7.16"
  }
 },
 "nbformat": 4,
 "nbformat_minor": 2
}
